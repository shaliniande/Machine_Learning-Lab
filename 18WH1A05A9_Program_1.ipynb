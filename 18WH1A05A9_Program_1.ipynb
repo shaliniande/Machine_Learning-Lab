{
  "nbformat": 4,
  "nbformat_minor": 0,
  "metadata": {
    "colab": {
      "name": "18WH1A05A9_Program 1.ipynb",
      "provenance": [],
      "authorship_tag": "ABX9TyMTfESyZhFa0iUzD9XFj+u6",
      "include_colab_link": true
    },
    "kernelspec": {
      "name": "python3",
      "display_name": "Python 3"
    },
    "language_info": {
      "name": "python"
    }
  },
  "cells": [
    {
      "cell_type": "markdown",
      "metadata": {
        "id": "view-in-github",
        "colab_type": "text"
      },
      "source": [
        "<a href=\"https://colab.research.google.com/github/shaliniande/Machine_Learning-Lab/blob/main/18WH1A05A9_Program_1.ipynb\" target=\"_parent\"><img src=\"https://colab.research.google.com/assets/colab-badge.svg\" alt=\"Open In Colab\"/></a>"
      ]
    },
    {
      "cell_type": "code",
      "metadata": {
        "colab": {
          "base_uri": "https://localhost:8080/"
        },
        "id": "lRpu1HvWUwgo",
        "outputId": "2c575c5d-af53-4293-f986-db505b1bce82"
      },
      "source": [
        "probStudAbsentAndFriday = 0.03\n",
        "probFriday =0.2\n",
        "bayesResult = (probStudAbsentAndFriday/probFriday)\n",
        "print (bayesResult *100)"
      ],
      "execution_count": 1,
      "outputs": [
        {
          "output_type": "stream",
          "text": [
            "15.0\n"
          ],
          "name": "stdout"
        }
      ]
    }
  ]
}